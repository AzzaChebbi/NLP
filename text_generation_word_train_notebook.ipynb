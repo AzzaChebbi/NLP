{
  "metadata": {
    "kernelspec": {
      "display_name": "Python 3",
      "language": "python",
      "name": "python3"
    },
    "language_info": {
      "name": "python",
      "version": "3.10.12",
      "mimetype": "text/x-python",
      "codemirror_mode": {
        "name": "ipython",
        "version": 3
      },
      "pygments_lexer": "ipython3",
      "nbconvert_exporter": "python",
      "file_extension": ".py"
    },
    "accelerator": "GPU",
    "colab": {
      "machine_shape": "hm",
      "provenance": []
    },
    "kaggle": {
      "accelerator": "nvidiaTeslaT4",
      "dataSources": [
        {
          "sourceId": 10774558,
          "sourceType": "datasetVersion",
          "datasetId": 6684735
        }
      ],
      "dockerImageVersionId": 30887,
      "isInternetEnabled": true,
      "language": "python",
      "sourceType": "notebook",
      "isGpuEnabled": true
    }
  },
  "nbformat_minor": 0,
  "nbformat": 4,
  "cells": [
    {
      "cell_type": "markdown",
      "source": [
        "# Bibliothèques nécessaires"
      ],
      "metadata": {
        "id": "CtzEwxVRcxUk"
      }
    },
    {
      "cell_type": "code",
      "source": [
        "import numpy as np\n",
        "import pandas as pd\n",
        "import matplotlib.pyplot as plt\n",
        "import tensorflow as tf\n",
        "from tensorflow.keras.utils import plot_model, to_categorical\n",
        "from tensorflow.keras.preprocessing.text import Tokenizer\n",
        "from tensorflow.keras.models import Sequential\n",
        "from tensorflow.keras.layers import Dense\n",
        "from tensorflow.keras.layers import Dropout\n",
        "from tensorflow.keras.layers import LSTM, Bidirectional\n",
        "from tensorflow.keras.layers import Embedding\n",
        "from tensorflow.keras.callbacks import ModelCheckpoint\n",
        "from tensorflow.keras.callbacks import EarlyStopping\n",
        "from tensorflow.keras import backend\n",
        "print(tf.__version__)"
      ],
      "metadata": {
        "colab": {
          "base_uri": "https://localhost:8080/"
        },
        "id": "TiUyYUWdcw9u",
        "outputId": "4a83f03c-e096-456e-cbe3-92df0cee53ff",
        "trusted": true,
        "execution": {
          "iopub.status.busy": "2025-02-17T14:31:02.046938Z",
          "iopub.execute_input": "2025-02-17T14:31:02.047211Z",
          "iopub.status.idle": "2025-02-17T14:31:22.462407Z",
          "shell.execute_reply.started": "2025-02-17T14:31:02.047179Z",
          "shell.execute_reply": "2025-02-17T14:31:22.461454Z"
        }
      },
      "outputs": [
        {
          "name": "stdout",
          "text": "2.17.1\n",
          "output_type": "stream"
        }
      ],
      "execution_count": null
    },
    {
      "cell_type": "markdown",
      "source": [
        "## Chargement des données"
      ],
      "metadata": {
        "id": "KTCMZpr7cAga"
      }
    },
    {
      "cell_type": "markdown",
      "source": [
        "Ce notebook a été exécuté sur Kaggle pour avoir plus de GPU"
      ],
      "metadata": {
        "id": "A-nTnu3aPfXR"
      }
    },
    {
      "cell_type": "code",
      "source": [
        "with open('/kaggle/input/dataset/nips_clean.txt', 'r') as file:\n",
        "  corpus = file.read()"
      ],
      "metadata": {
        "id": "yu-mN1cF7XTB",
        "trusted": true,
        "execution": {
          "iopub.status.busy": "2025-02-17T14:33:36.305756Z",
          "iopub.execute_input": "2025-02-17T14:33:36.306062Z",
          "iopub.status.idle": "2025-02-17T14:33:36.415552Z",
          "shell.execute_reply.started": "2025-02-17T14:33:36.306036Z",
          "shell.execute_reply": "2025-02-17T14:33:36.414637Z"
        }
      },
      "outputs": [],
      "execution_count": null
    },
    {
      "cell_type": "code",
      "source": [
        "words = corpus.split()\n",
        "n_words = len(words)\n",
        "unique_words = sorted(list(set(words)))\n",
        "n_unique_words = len(unique_words)\n",
        "print(\"Total number of words:\", n_words)\n",
        "print(\"Total number of unique words: \", n_unique_words)"
      ],
      "metadata": {
        "colab": {
          "base_uri": "https://localhost:8080/"
        },
        "id": "Ah-YYMW77kWJ",
        "outputId": "dfbcc80b-eb5d-44ed-cea5-20db9dc0ab24",
        "trusted": true,
        "execution": {
          "iopub.status.busy": "2025-02-17T14:33:41.541202Z",
          "iopub.execute_input": "2025-02-17T14:33:41.541500Z",
          "iopub.status.idle": "2025-02-17T14:33:41.666726Z",
          "shell.execute_reply.started": "2025-02-17T14:33:41.541479Z",
          "shell.execute_reply": "2025-02-17T14:33:41.665836Z"
        }
      },
      "outputs": [
        {
          "name": "stdout",
          "text": "Total number of words: 783672\nTotal number of unique words:  15275\n",
          "output_type": "stream"
        }
      ],
      "execution_count": null
    },
    {
      "cell_type": "markdown",
      "source": [
        "## Paramètres"
      ],
      "metadata": {
        "id": "7sNXXnDEIGSV"
      }
    },
    {
      "cell_type": "code",
      "source": [
        "#configuration\n",
        "SEQUENCE_LENGTH = 200\n",
        "MIN_WORD_FREQUENCY = 3\n",
        "MAX_VOCAB_SIZE = n_unique_words\n",
        "EMBEDDING_DIM = 256\n",
        "BATCH_SIZE = 32\n",
        "DROPOUT_RATE = 0.2\n",
        "RNN_UNITS = 128\n",
        "EPOCHS = 300"
      ],
      "metadata": {
        "id": "rQVt7zdjjH_C",
        "trusted": true,
        "execution": {
          "iopub.status.busy": "2025-02-17T14:36:25.372637Z",
          "iopub.execute_input": "2025-02-17T14:36:25.372975Z",
          "iopub.status.idle": "2025-02-17T14:36:25.377154Z",
          "shell.execute_reply.started": "2025-02-17T14:36:25.372952Z",
          "shell.execute_reply": "2025-02-17T14:36:25.376380Z"
        }
      },
      "outputs": [],
      "execution_count": null
    },
    {
      "cell_type": "code",
      "source": [
        "# Fréquence des mots\n",
        "word_count = {}\n",
        "for word in words:\n",
        "  word_count[word] = word_count.get(word, 0) + 1\n",
        "rare_words = set()\n",
        "for k, v in word_count.items():\n",
        "  if word_count[k] < MIN_WORD_FREQUENCY:\n",
        "    rare_words.add(k)\n",
        "print('Removing words with frequency <', MIN_WORD_FREQUENCY)\n",
        "print('Total number of rare words: ', len(rare_words))\n",
        "unique_words = sorted(set(words) - rare_words)\n",
        "n_unique_words = len(unique_words)\n",
        "print('Total number of unique words after removing rare words:', n_unique_words)"
      ],
      "metadata": {
        "colab": {
          "base_uri": "https://localhost:8080/"
        },
        "id": "YvdGMbzqSOeh",
        "outputId": "2ec6908a-feed-42d5-edd3-8bcb07f090b3",
        "trusted": true,
        "execution": {
          "iopub.status.busy": "2025-02-17T14:36:28.141569Z",
          "iopub.execute_input": "2025-02-17T14:36:28.141859Z",
          "iopub.status.idle": "2025-02-17T14:36:28.350732Z",
          "shell.execute_reply.started": "2025-02-17T14:36:28.141836Z",
          "shell.execute_reply": "2025-02-17T14:36:28.349989Z"
        }
      },
      "outputs": [
        {
          "name": "stdout",
          "text": "Removing words with frequency < 3\nTotal number of rare words:  7291\nTotal number of unique words after removing rare words: 7984\n",
          "output_type": "stream"
        }
      ],
      "execution_count": null
    },
    {
      "cell_type": "code",
      "source": [
        "MAX_VOCAB_SIZE = n_unique_words"
      ],
      "metadata": {
        "id": "KRAL69H7HTj5",
        "trusted": true,
        "execution": {
          "iopub.status.busy": "2025-02-17T14:36:32.878745Z",
          "iopub.execute_input": "2025-02-17T14:36:32.879041Z",
          "iopub.status.idle": "2025-02-17T14:36:32.882401Z",
          "shell.execute_reply.started": "2025-02-17T14:36:32.879018Z",
          "shell.execute_reply": "2025-02-17T14:36:32.881707Z"
        }
      },
      "outputs": [],
      "execution_count": null
    },
    {
      "cell_type": "code",
      "source": [
        "# Créer des séquences de mots et supprimer les séquences contenant des mots rares\n",
        "sequences_words = []\n",
        "n_ignored = 0\n",
        "ignored_sequences = []\n",
        "for i in range(0, n_words - SEQUENCE_LENGTH):\n",
        "\ts = ' '.join(words[i:i+SEQUENCE_LENGTH])\n",
        "\t# ajouter seulement des sequences ne contenant pas des mots rares\n",
        "\tif len(set(words[i:i+SEQUENCE_LENGTH]).intersection(rare_words)) == 0:\n",
        "\t\tsequences_words.append(s)\n",
        "\telse:\n",
        "\t\tn_ignored = n_ignored + 1\n",
        "\t\tignored_sequences.append(s)\n",
        "print('Total number of sequences without rare words: %d' % len(sequences_words))\n",
        "print('Total number of sequences with rare words: %d' % len(ignored_sequences))"
      ],
      "metadata": {
        "colab": {
          "base_uri": "https://localhost:8080/"
        },
        "id": "lII3wDDPjv9T",
        "outputId": "2350b5ad-93db-4ecf-d3d4-f6f8b345d121",
        "trusted": true,
        "execution": {
          "iopub.status.busy": "2025-02-17T14:36:37.319512Z",
          "iopub.execute_input": "2025-02-17T14:36:37.319805Z",
          "iopub.status.idle": "2025-02-17T14:36:45.989226Z",
          "shell.execute_reply.started": "2025-02-17T14:36:37.319785Z",
          "shell.execute_reply": "2025-02-17T14:36:45.988464Z"
        }
      },
      "outputs": [
        {
          "name": "stdout",
          "text": "Total number of sequences without rare words: 139724\nTotal number of sequences with rare words: 643748\n",
          "output_type": "stream"
        }
      ],
      "execution_count": null
    },
    {
      "cell_type": "markdown",
      "source": [
        "## Tokenisation"
      ],
      "metadata": {
        "id": "Eb3-uI_ZIRbR"
      }
    },
    {
      "cell_type": "code",
      "source": [
        "# Tokenization\n",
        "tokenizer = Tokenizer(filters='', lower=False, oov_token=\"<OOV>\")\n",
        "tokenizer.fit_on_texts(sequences_words)\n",
        "word_index = tokenizer.word_index\n",
        "# convertir les sequences en integers\n",
        "sequences = tokenizer.texts_to_sequences(sequences_words)\n",
        "n_sequences = len(sequences)\n",
        "vocab_size = len(word_index) + 1\n",
        "print(\"Number of unique tokens: %d\" % len(word_index))\n",
        "print('Total number of sequences: %d' % n_sequences)"
      ],
      "metadata": {
        "colab": {
          "base_uri": "https://localhost:8080/"
        },
        "id": "mfKBMQAY1a66",
        "outputId": "b6990a7a-0811-4a36-f28f-5b0ffec60da4",
        "trusted": true,
        "execution": {
          "iopub.status.busy": "2025-02-17T14:36:49.852357Z",
          "iopub.execute_input": "2025-02-17T14:36:49.852687Z",
          "iopub.status.idle": "2025-02-17T14:37:12.122559Z",
          "shell.execute_reply.started": "2025-02-17T14:36:49.852663Z",
          "shell.execute_reply": "2025-02-17T14:37:12.121801Z"
        }
      },
      "outputs": [
        {
          "name": "stdout",
          "text": "Number of unique tokens: 7196\nTotal number of sequences: 139724\n",
          "output_type": "stream"
        }
      ],
      "execution_count": null
    },
    {
      "cell_type": "code",
      "source": [
        "sequences = np.array(sequences)\n",
        "X, y = sequences[:,:-1], sequences[:,-1]"
      ],
      "metadata": {
        "id": "X1pTRtLAmNDS",
        "trusted": true,
        "execution": {
          "iopub.status.busy": "2025-02-17T14:37:19.011954Z",
          "iopub.execute_input": "2025-02-17T14:37:19.012244Z",
          "iopub.status.idle": "2025-02-17T14:37:19.094097Z",
          "shell.execute_reply.started": "2025-02-17T14:37:19.012222Z",
          "shell.execute_reply": "2025-02-17T14:37:19.093441Z"
        }
      },
      "outputs": [],
      "execution_count": null
    },
    {
      "cell_type": "code",
      "source": [
        "# Génération de données\n",
        "def generate_arrays(X_all, y_all, batch_size):\n",
        "    index = 0\n",
        "    while True:\n",
        "        x = np.zeros((batch_size, X.shape[1]), dtype=np.int32)\n",
        "        y = np.zeros((batch_size, vocab_size), dtype=bool)\n",
        "        for i in range(batch_size):\n",
        "            x[i] = X_all[index]\n",
        "            y[i] = to_categorical(y_all[index], num_classes = vocab_size)\n",
        "\n",
        "            index = index + 1\n",
        "            if index == len(X_all):\n",
        "               index = 0\n",
        "        yield (x, y)"
      ],
      "metadata": {
        "id": "-Zf-c045H0ny",
        "trusted": true,
        "execution": {
          "iopub.status.busy": "2025-02-17T14:37:21.769595Z",
          "iopub.execute_input": "2025-02-17T14:37:21.769919Z",
          "iopub.status.idle": "2025-02-17T14:37:21.775002Z",
          "shell.execute_reply.started": "2025-02-17T14:37:21.769890Z",
          "shell.execute_reply": "2025-02-17T14:37:21.774214Z"
        }
      },
      "outputs": [],
      "execution_count": null
    },
    {
      "cell_type": "code",
      "source": [
        "# training set et testing set\n",
        "def shuffle_train_test_split(X_all, y_all, shuffle=True, test_percent=20, random_state=10):\n",
        "\n",
        "    if shuffle:\n",
        "      X_all_shuffled = []\n",
        "      y_all_shuffled = []\n",
        "      for i in np.random.RandomState(seed=random_state).permutation(len(X_all)):\n",
        "          X_all_shuffled.append(X_all[i])\n",
        "          y_all_shuffled.append(y_all[i])\n",
        "    else:\n",
        "      X_all_shuffled = X_all\n",
        "      y_all_shuffled = y_all\n",
        "\n",
        "    split_index = int(len(X_all) * (1.-(test_percent/100.)))\n",
        "    X_train, X_test = X_all_shuffled[:split_index], X_all_shuffled[split_index:]\n",
        "    y_train, y_test = y_all_shuffled[:split_index], y_all_shuffled[split_index:]\n",
        "\n",
        "    X_train = np.array(X_train)\n",
        "    y_train = np.array(y_train)\n",
        "    X_test = np.array(X_test)\n",
        "    y_test = np.array(y_test)\n",
        "\n",
        "    return X_train, y_train, X_test, y_test"
      ],
      "metadata": {
        "id": "5w9Ggx98E5G5",
        "trusted": true,
        "execution": {
          "iopub.status.busy": "2025-02-17T14:37:25.049100Z",
          "iopub.execute_input": "2025-02-17T14:37:25.049390Z",
          "iopub.status.idle": "2025-02-17T14:37:25.054721Z",
          "shell.execute_reply.started": "2025-02-17T14:37:25.049369Z",
          "shell.execute_reply": "2025-02-17T14:37:25.054015Z"
        }
      },
      "outputs": [],
      "execution_count": null
    },
    {
      "cell_type": "code",
      "source": [
        "X_train, y_train, X_test, y_test = shuffle_train_test_split(X, y, test_percent=0)"
      ],
      "metadata": {
        "id": "X0tlc5noHHCz",
        "trusted": true,
        "execution": {
          "iopub.status.busy": "2025-02-17T14:37:28.848972Z",
          "iopub.execute_input": "2025-02-17T14:37:28.849255Z",
          "iopub.status.idle": "2025-02-17T14:37:29.089431Z",
          "shell.execute_reply.started": "2025-02-17T14:37:28.849235Z",
          "shell.execute_reply": "2025-02-17T14:37:29.088780Z"
        }
      },
      "outputs": [],
      "execution_count": null
    },
    {
      "cell_type": "markdown",
      "source": [
        "## Modèle"
      ],
      "metadata": {
        "id": "fwJUxLue7XaN"
      }
    },
    {
      "cell_type": "code",
      "source": [
        "model = Sequential()\n",
        "model.add(Embedding(input_dim=vocab_size, output_dim=EMBEDDING_DIM, input_length=SEQUENCE_LENGTH-1))\n",
        "model.add(Bidirectional(LSTM(units=RNN_UNITS)))\n",
        "model.add(Dropout(DROPOUT_RATE))\n",
        "model.add(Dense(units=vocab_size, activation='softmax'))\n",
        "model.build(input_shape=(None, SEQUENCE_LENGTH-1))\n",
        "print(model.summary())"
      ],
      "metadata": {
        "colab": {
          "base_uri": "https://localhost:8080/",
          "height": 289
        },
        "id": "_3u8x8lX5jg3",
        "outputId": "e72fca70-1a8f-4171-9058-fc1119e9d54d",
        "trusted": true,
        "execution": {
          "iopub.status.busy": "2025-02-17T14:37:32.419372Z",
          "iopub.execute_input": "2025-02-17T14:37:32.419687Z",
          "iopub.status.idle": "2025-02-17T14:37:32.492985Z",
          "shell.execute_reply.started": "2025-02-17T14:37:32.419665Z",
          "shell.execute_reply": "2025-02-17T14:37:32.492267Z"
        }
      },
      "outputs": [
        {
          "output_type": "display_data",
          "data": {
            "text/plain": "\u001b[1mModel: \"sequential_1\"\u001b[0m\n",
            "text/html": "<pre style=\"white-space:pre;overflow-x:auto;line-height:normal;font-family:Menlo,'DejaVu Sans Mono',consolas,'Courier New',monospace\"><span style=\"font-weight: bold\">Model: \"sequential_1\"</span>\n</pre>\n"
          },
          "metadata": {}
        },
        {
          "output_type": "display_data",
          "data": {
            "text/plain": "┏━━━━━━━━━━━━━━━━━━━━━━━━━━━━━━━━━━━━━━┳━━━━━━━━━━━━━━━━━━━━━━━━━━━━━┳━━━━━━━━━━━━━━━━━┓\n┃\u001b[1m \u001b[0m\u001b[1mLayer (type)                        \u001b[0m\u001b[1m \u001b[0m┃\u001b[1m \u001b[0m\u001b[1mOutput Shape               \u001b[0m\u001b[1m \u001b[0m┃\u001b[1m \u001b[0m\u001b[1m        Param #\u001b[0m\u001b[1m \u001b[0m┃\n┡━━━━━━━━━━━━━━━━━━━━━━━━━━━━━━━━━━━━━━╇━━━━━━━━━━━━━━━━━━━━━━━━━━━━━╇━━━━━━━━━━━━━━━━━┩\n│ embedding_1 (\u001b[38;5;33mEmbedding\u001b[0m)              │ (\u001b[38;5;45mNone\u001b[0m, \u001b[38;5;34m199\u001b[0m, \u001b[38;5;34m256\u001b[0m)            │       \u001b[38;5;34m1,842,432\u001b[0m │\n├──────────────────────────────────────┼─────────────────────────────┼─────────────────┤\n│ bidirectional_1 (\u001b[38;5;33mBidirectional\u001b[0m)      │ (\u001b[38;5;45mNone\u001b[0m, \u001b[38;5;34m256\u001b[0m)                 │         \u001b[38;5;34m394,240\u001b[0m │\n├──────────────────────────────────────┼─────────────────────────────┼─────────────────┤\n│ dropout_1 (\u001b[38;5;33mDropout\u001b[0m)                  │ (\u001b[38;5;45mNone\u001b[0m, \u001b[38;5;34m256\u001b[0m)                 │               \u001b[38;5;34m0\u001b[0m │\n├──────────────────────────────────────┼─────────────────────────────┼─────────────────┤\n│ dense_1 (\u001b[38;5;33mDense\u001b[0m)                      │ (\u001b[38;5;45mNone\u001b[0m, \u001b[38;5;34m7197\u001b[0m)                │       \u001b[38;5;34m1,849,629\u001b[0m │\n└──────────────────────────────────────┴─────────────────────────────┴─────────────────┘\n",
            "text/html": "<pre style=\"white-space:pre;overflow-x:auto;line-height:normal;font-family:Menlo,'DejaVu Sans Mono',consolas,'Courier New',monospace\">┏━━━━━━━━━━━━━━━━━━━━━━━━━━━━━━━━━━━━━━┳━━━━━━━━━━━━━━━━━━━━━━━━━━━━━┳━━━━━━━━━━━━━━━━━┓\n┃<span style=\"font-weight: bold\"> Layer (type)                         </span>┃<span style=\"font-weight: bold\"> Output Shape                </span>┃<span style=\"font-weight: bold\">         Param # </span>┃\n┡━━━━━━━━━━━━━━━━━━━━━━━━━━━━━━━━━━━━━━╇━━━━━━━━━━━━━━━━━━━━━━━━━━━━━╇━━━━━━━━━━━━━━━━━┩\n│ embedding_1 (<span style=\"color: #0087ff; text-decoration-color: #0087ff\">Embedding</span>)              │ (<span style=\"color: #00d7ff; text-decoration-color: #00d7ff\">None</span>, <span style=\"color: #00af00; text-decoration-color: #00af00\">199</span>, <span style=\"color: #00af00; text-decoration-color: #00af00\">256</span>)            │       <span style=\"color: #00af00; text-decoration-color: #00af00\">1,842,432</span> │\n├──────────────────────────────────────┼─────────────────────────────┼─────────────────┤\n│ bidirectional_1 (<span style=\"color: #0087ff; text-decoration-color: #0087ff\">Bidirectional</span>)      │ (<span style=\"color: #00d7ff; text-decoration-color: #00d7ff\">None</span>, <span style=\"color: #00af00; text-decoration-color: #00af00\">256</span>)                 │         <span style=\"color: #00af00; text-decoration-color: #00af00\">394,240</span> │\n├──────────────────────────────────────┼─────────────────────────────┼─────────────────┤\n│ dropout_1 (<span style=\"color: #0087ff; text-decoration-color: #0087ff\">Dropout</span>)                  │ (<span style=\"color: #00d7ff; text-decoration-color: #00d7ff\">None</span>, <span style=\"color: #00af00; text-decoration-color: #00af00\">256</span>)                 │               <span style=\"color: #00af00; text-decoration-color: #00af00\">0</span> │\n├──────────────────────────────────────┼─────────────────────────────┼─────────────────┤\n│ dense_1 (<span style=\"color: #0087ff; text-decoration-color: #0087ff\">Dense</span>)                      │ (<span style=\"color: #00d7ff; text-decoration-color: #00d7ff\">None</span>, <span style=\"color: #00af00; text-decoration-color: #00af00\">7197</span>)                │       <span style=\"color: #00af00; text-decoration-color: #00af00\">1,849,629</span> │\n└──────────────────────────────────────┴─────────────────────────────┴─────────────────┘\n</pre>\n"
          },
          "metadata": {}
        },
        {
          "output_type": "display_data",
          "data": {
            "text/plain": "\u001b[1m Total params: \u001b[0m\u001b[38;5;34m4,086,301\u001b[0m (15.59 MB)\n",
            "text/html": "<pre style=\"white-space:pre;overflow-x:auto;line-height:normal;font-family:Menlo,'DejaVu Sans Mono',consolas,'Courier New',monospace\"><span style=\"font-weight: bold\"> Total params: </span><span style=\"color: #00af00; text-decoration-color: #00af00\">4,086,301</span> (15.59 MB)\n</pre>\n"
          },
          "metadata": {}
        },
        {
          "output_type": "display_data",
          "data": {
            "text/plain": "\u001b[1m Trainable params: \u001b[0m\u001b[38;5;34m4,086,301\u001b[0m (15.59 MB)\n",
            "text/html": "<pre style=\"white-space:pre;overflow-x:auto;line-height:normal;font-family:Menlo,'DejaVu Sans Mono',consolas,'Courier New',monospace\"><span style=\"font-weight: bold\"> Trainable params: </span><span style=\"color: #00af00; text-decoration-color: #00af00\">4,086,301</span> (15.59 MB)\n</pre>\n"
          },
          "metadata": {}
        },
        {
          "output_type": "display_data",
          "data": {
            "text/plain": "\u001b[1m Non-trainable params: \u001b[0m\u001b[38;5;34m0\u001b[0m (0.00 B)\n",
            "text/html": "<pre style=\"white-space:pre;overflow-x:auto;line-height:normal;font-family:Menlo,'DejaVu Sans Mono',consolas,'Courier New',monospace\"><span style=\"font-weight: bold\"> Non-trainable params: </span><span style=\"color: #00af00; text-decoration-color: #00af00\">0</span> (0.00 B)\n</pre>\n"
          },
          "metadata": {}
        },
        {
          "name": "stdout",
          "text": "None\n",
          "output_type": "stream"
        }
      ],
      "execution_count": null
    },
    {
      "cell_type": "code",
      "source": [
        "model.compile(loss='categorical_crossentropy', optimizer='adam', metrics=['accuracy'])"
      ],
      "metadata": {
        "id": "NCEmLVPp-hqt",
        "trusted": true,
        "execution": {
          "iopub.status.busy": "2025-02-17T14:37:36.498831Z",
          "iopub.execute_input": "2025-02-17T14:37:36.499135Z",
          "iopub.status.idle": "2025-02-17T14:37:36.506934Z",
          "shell.execute_reply.started": "2025-02-17T14:37:36.499113Z",
          "shell.execute_reply": "2025-02-17T14:37:36.506089Z"
        }
      },
      "outputs": [],
      "execution_count": null
    },
    {
      "cell_type": "code",
      "source": [
        "early_stopping = EarlyStopping(monitor='loss', patience=5)\n",
        "callbacks_list = [early_stopping]"
      ],
      "metadata": {
        "id": "-gnJCiEb-9C_",
        "trusted": true,
        "execution": {
          "iopub.status.busy": "2025-02-17T14:37:40.144955Z",
          "iopub.execute_input": "2025-02-17T14:37:40.145242Z",
          "iopub.status.idle": "2025-02-17T14:37:40.149122Z",
          "shell.execute_reply.started": "2025-02-17T14:37:40.145220Z",
          "shell.execute_reply": "2025-02-17T14:37:40.148194Z"
        }
      },
      "outputs": [],
      "execution_count": null
    },
    {
      "cell_type": "markdown",
      "source": [
        "## Entrainement du modèle"
      ],
      "metadata": {
        "id": "UW5XlkgjAuLp"
      }
    },
    {
      "cell_type": "code",
      "source": [
        "model.fit(generate_arrays(X_train, y_train, BATCH_SIZE),\n",
        "                    steps_per_epoch = (len(X) // BATCH_SIZE) + 1,\n",
        "                    epochs = EPOCHS,\n",
        "                    callbacks = callbacks_list)"
      ],
      "metadata": {
        "colab": {
          "base_uri": "https://localhost:8080/"
        },
        "id": "QVryiAfHAvR8",
        "outputId": "7ce2e42a-2da4-48cd-be46-a1594b0b9720",
        "trusted": true,
        "execution": {
          "iopub.status.busy": "2025-02-17T14:37:44.483097Z",
          "iopub.execute_input": "2025-02-17T14:37:44.483384Z"
        }
      },
      "outputs": [
        {
          "name": "stdout",
          "text": "Epoch 1/300\n\u001b[1m4367/4367\u001b[0m \u001b[32m━━━━━━━━━━━━━━━━━━━━\u001b[0m\u001b[37m\u001b[0m \u001b[1m91s\u001b[0m 21ms/step - accuracy: 0.1089 - loss: 6.2192\nEpoch 2/300\n\u001b[1m4367/4367\u001b[0m \u001b[32m━━━━━━━━━━━━━━━━━━━━\u001b[0m\u001b[37m\u001b[0m \u001b[1m91s\u001b[0m 21ms/step - accuracy: 0.1988 - loss: 5.1232\nEpoch 3/300\n\u001b[1m4367/4367\u001b[0m \u001b[32m━━━━━━━━━━━━━━━━━━━━\u001b[0m\u001b[37m\u001b[0m \u001b[1m91s\u001b[0m 21ms/step - accuracy: 0.2270 - loss: 4.6894\nEpoch 4/300\n\u001b[1m4367/4367\u001b[0m \u001b[32m━━━━━━━━━━━━━━━━━━━━\u001b[0m\u001b[37m\u001b[0m \u001b[1m91s\u001b[0m 21ms/step - accuracy: 0.2515 - loss: 4.3124\nEpoch 5/300\n\u001b[1m4367/4367\u001b[0m \u001b[32m━━━━━━━━━━━━━━━━━━━━\u001b[0m\u001b[37m\u001b[0m \u001b[1m91s\u001b[0m 21ms/step - accuracy: 0.2766 - loss: 3.9645\nEpoch 6/300\n\u001b[1m4367/4367\u001b[0m \u001b[32m━━━━━━━━━━━━━━━━━━━━\u001b[0m\u001b[37m\u001b[0m \u001b[1m91s\u001b[0m 21ms/step - accuracy: 0.3058 - loss: 3.6373\nEpoch 7/300\n\u001b[1m4367/4367\u001b[0m \u001b[32m━━━━━━━━━━━━━━━━━━━━\u001b[0m\u001b[37m\u001b[0m \u001b[1m91s\u001b[0m 21ms/step - accuracy: 0.3375 - loss: 3.3491\nEpoch 8/300\n\u001b[1m4367/4367\u001b[0m \u001b[32m━━━━━━━━━━━━━━━━━━━━\u001b[0m\u001b[37m\u001b[0m \u001b[1m90s\u001b[0m 21ms/step - accuracy: 0.3720 - loss: 3.0708\nEpoch 9/300\n\u001b[1m4367/4367\u001b[0m \u001b[32m━━━━━━━━━━━━━━━━━━━━\u001b[0m\u001b[37m\u001b[0m \u001b[1m91s\u001b[0m 21ms/step - accuracy: 0.4046 - loss: 2.8324\nEpoch 10/300\n\u001b[1m4367/4367\u001b[0m \u001b[32m━━━━━━━━━━━━━━━━━━━━\u001b[0m\u001b[37m\u001b[0m \u001b[1m91s\u001b[0m 21ms/step - accuracy: 0.4383 - loss: 2.6234\nEpoch 11/300\n\u001b[1m4367/4367\u001b[0m \u001b[32m━━━━━━━━━━━━━━━━━━━━\u001b[0m\u001b[37m\u001b[0m \u001b[1m91s\u001b[0m 21ms/step - accuracy: 0.4629 - loss: 2.4506\nEpoch 12/300\n\u001b[1m4367/4367\u001b[0m \u001b[32m━━━━━━━━━━━━━━━━━━━━\u001b[0m\u001b[37m\u001b[0m \u001b[1m91s\u001b[0m 21ms/step - accuracy: 0.4919 - loss: 2.2931\nEpoch 13/300\n\u001b[1m4367/4367\u001b[0m \u001b[32m━━━━━━━━━━━━━━━━━━━━\u001b[0m\u001b[37m\u001b[0m \u001b[1m91s\u001b[0m 21ms/step - accuracy: 0.5122 - loss: 2.1622\nEpoch 14/300\n\u001b[1m4367/4367\u001b[0m \u001b[32m━━━━━━━━━━━━━━━━━━━━\u001b[0m\u001b[37m\u001b[0m \u001b[1m91s\u001b[0m 21ms/step - accuracy: 0.5331 - loss: 2.0455\nEpoch 15/300\n\u001b[1m4367/4367\u001b[0m \u001b[32m━━━━━━━━━━━━━━━━━━━━\u001b[0m\u001b[37m\u001b[0m \u001b[1m91s\u001b[0m 21ms/step - accuracy: 0.5459 - loss: 1.9587\nEpoch 16/300\n\u001b[1m4367/4367\u001b[0m \u001b[32m━━━━━━━━━━━━━━━━━━━━\u001b[0m\u001b[37m\u001b[0m \u001b[1m91s\u001b[0m 21ms/step - accuracy: 0.5626 - loss: 1.8707\nEpoch 17/300\n\u001b[1m4367/4367\u001b[0m \u001b[32m━━━━━━━━━━━━━━━━━━━━\u001b[0m\u001b[37m\u001b[0m \u001b[1m91s\u001b[0m 21ms/step - accuracy: 0.5752 - loss: 1.7810\nEpoch 18/300\n\u001b[1m4367/4367\u001b[0m \u001b[32m━━━━━━━━━━━━━━━━━━━━\u001b[0m\u001b[37m\u001b[0m \u001b[1m91s\u001b[0m 21ms/step - accuracy: 0.5861 - loss: 1.7351\nEpoch 19/300\n\u001b[1m4367/4367\u001b[0m \u001b[32m━━━━━━━━━━━━━━━━━━━━\u001b[0m\u001b[37m\u001b[0m \u001b[1m91s\u001b[0m 21ms/step - accuracy: 0.5726 - loss: 1.7808\nEpoch 20/300\n\u001b[1m4367/4367\u001b[0m \u001b[32m━━━━━━━━━━━━━━━━━━━━\u001b[0m\u001b[37m\u001b[0m \u001b[1m91s\u001b[0m 21ms/step - accuracy: 0.5659 - loss: 1.8036\nEpoch 21/300\n\u001b[1m4367/4367\u001b[0m \u001b[32m━━━━━━━━━━━━━━━━━━━━\u001b[0m\u001b[37m\u001b[0m \u001b[1m91s\u001b[0m 21ms/step - accuracy: 0.5989 - loss: 1.6412\nEpoch 22/300\n\u001b[1m4367/4367\u001b[0m \u001b[32m━━━━━━━━━━━━━━━━━━━━\u001b[0m\u001b[37m\u001b[0m \u001b[1m91s\u001b[0m 21ms/step - accuracy: 0.5906 - loss: 1.6723\nEpoch 23/300\n\u001b[1m4367/4367\u001b[0m \u001b[32m━━━━━━━━━━━━━━━━━━━━\u001b[0m\u001b[37m\u001b[0m \u001b[1m91s\u001b[0m 21ms/step - accuracy: 0.6151 - loss: 1.5608\nEpoch 24/300\n\u001b[1m4367/4367\u001b[0m \u001b[32m━━━━━━━━━━━━━━━━━━━━\u001b[0m\u001b[37m\u001b[0m \u001b[1m91s\u001b[0m 21ms/step - accuracy: 0.6218 - loss: 1.5175\nEpoch 25/300\n\u001b[1m4367/4367\u001b[0m \u001b[32m━━━━━━━━━━━━━━━━━━━━\u001b[0m\u001b[37m\u001b[0m \u001b[1m91s\u001b[0m 21ms/step - accuracy: 0.6318 - loss: 1.4690\nEpoch 26/300\n\u001b[1m4367/4367\u001b[0m \u001b[32m━━━━━━━━━━━━━━━━━━━━\u001b[0m\u001b[37m\u001b[0m \u001b[1m91s\u001b[0m 21ms/step - accuracy: 0.6326 - loss: 1.4641\nEpoch 27/300\n\u001b[1m4367/4367\u001b[0m \u001b[32m━━━━━━━━━━━━━━━━━━━━\u001b[0m\u001b[37m\u001b[0m \u001b[1m91s\u001b[0m 21ms/step - accuracy: 0.6321 - loss: 1.4482\nEpoch 28/300\n\u001b[1m4367/4367\u001b[0m \u001b[32m━━━━━━━━━━━━━━━━━━━━\u001b[0m\u001b[37m\u001b[0m \u001b[1m91s\u001b[0m 21ms/step - accuracy: 0.6313 - loss: 1.4505\nEpoch 29/300\n\u001b[1m4367/4367\u001b[0m \u001b[32m━━━━━━━━━━━━━━━━━━━━\u001b[0m\u001b[37m\u001b[0m \u001b[1m91s\u001b[0m 21ms/step - accuracy: 0.6276 - loss: 1.4698\nEpoch 30/300\n\u001b[1m4367/4367\u001b[0m \u001b[32m━━━━━━━━━━━━━━━━━━━━\u001b[0m\u001b[37m\u001b[0m \u001b[1m91s\u001b[0m 21ms/step - accuracy: 0.6482 - loss: 1.3785\nEpoch 31/300\n\u001b[1m4367/4367\u001b[0m \u001b[32m━━━━━━━━━━━━━━━━━━━━\u001b[0m\u001b[37m\u001b[0m \u001b[1m91s\u001b[0m 21ms/step - accuracy: 0.6424 - loss: 1.3908\nEpoch 32/300\n\u001b[1m4367/4367\u001b[0m \u001b[32m━━━━━━━━━━━━━━━━━━━━\u001b[0m\u001b[37m\u001b[0m \u001b[1m91s\u001b[0m 21ms/step - accuracy: 0.6578 - loss: 1.3325\nEpoch 33/300\n\u001b[1m4367/4367\u001b[0m \u001b[32m━━━━━━━━━━━━━━━━━━━━\u001b[0m\u001b[37m\u001b[0m \u001b[1m91s\u001b[0m 21ms/step - accuracy: 0.6637 - loss: 1.2956\nEpoch 34/300\n\u001b[1m4367/4367\u001b[0m \u001b[32m━━━━━━━━━━━━━━━━━━━━\u001b[0m\u001b[37m\u001b[0m \u001b[1m90s\u001b[0m 21ms/step - accuracy: 0.6642 - loss: 1.2952\nEpoch 35/300\n\u001b[1m4367/4367\u001b[0m \u001b[32m━━━━━━━━━━━━━━━━━━━━\u001b[0m\u001b[37m\u001b[0m \u001b[1m91s\u001b[0m 21ms/step - accuracy: 0.6804 - loss: 1.2109\nEpoch 36/300\n\u001b[1m4367/4367\u001b[0m \u001b[32m━━━━━━━━━━━━━━━━━━━━\u001b[0m\u001b[37m\u001b[0m \u001b[1m91s\u001b[0m 21ms/step - accuracy: 0.6945 - loss: 1.1623\nEpoch 37/300\n\u001b[1m4367/4367\u001b[0m \u001b[32m━━━━━━━━━━━━━━━━━━━━\u001b[0m\u001b[37m\u001b[0m \u001b[1m90s\u001b[0m 21ms/step - accuracy: 0.7004 - loss: 1.1228\nEpoch 38/300\n\u001b[1m4367/4367\u001b[0m \u001b[32m━━━━━━━━━━━━━━━━━━━━\u001b[0m\u001b[37m\u001b[0m \u001b[1m91s\u001b[0m 21ms/step - accuracy: 0.7097 - loss: 1.0818\nEpoch 39/300\n\u001b[1m4367/4367\u001b[0m \u001b[32m━━━━━━━━━━━━━━━━━━━━\u001b[0m\u001b[37m\u001b[0m \u001b[1m91s\u001b[0m 21ms/step - accuracy: 0.7154 - loss: 1.0559\nEpoch 40/300\n\u001b[1m4367/4367\u001b[0m \u001b[32m━━━━━━━━━━━━━━━━━━━━\u001b[0m\u001b[37m\u001b[0m \u001b[1m91s\u001b[0m 21ms/step - accuracy: 0.7137 - loss: 1.0606\nEpoch 41/300\n\u001b[1m4367/4367\u001b[0m \u001b[32m━━━━━━━━━━━━━━━━━━━━\u001b[0m\u001b[37m\u001b[0m \u001b[1m91s\u001b[0m 21ms/step - accuracy: 0.7073 - loss: 1.0790\nEpoch 42/300\n\u001b[1m4367/4367\u001b[0m \u001b[32m━━━━━━━━━━━━━━━━━━━━\u001b[0m\u001b[37m\u001b[0m \u001b[1m91s\u001b[0m 21ms/step - accuracy: 0.7161 - loss: 1.0456\nEpoch 43/300\n\u001b[1m4367/4367\u001b[0m \u001b[32m━━━━━━━━━━━━━━━━━━━━\u001b[0m\u001b[37m\u001b[0m \u001b[1m91s\u001b[0m 21ms/step - accuracy: 0.7227 - loss: 1.0137\nEpoch 44/300\n\u001b[1m4367/4367\u001b[0m \u001b[32m━━━━━━━━━━━━━━━━━━━━\u001b[0m\u001b[37m\u001b[0m \u001b[1m91s\u001b[0m 21ms/step - accuracy: 0.7281 - loss: 0.9948\nEpoch 45/300\n\u001b[1m4367/4367\u001b[0m \u001b[32m━━━━━━━━━━━━━━━━━━━━\u001b[0m\u001b[37m\u001b[0m \u001b[1m90s\u001b[0m 21ms/step - accuracy: 0.7274 - loss: 0.9939\nEpoch 46/300\n\u001b[1m4367/4367\u001b[0m \u001b[32m━━━━━━━━━━━━━━━━━━━━\u001b[0m\u001b[37m\u001b[0m \u001b[1m91s\u001b[0m 21ms/step - accuracy: 0.7278 - loss: 0.9891\nEpoch 47/300\n\u001b[1m4367/4367\u001b[0m \u001b[32m━━━━━━━━━━━━━━━━━━━━\u001b[0m\u001b[37m\u001b[0m \u001b[1m91s\u001b[0m 21ms/step - accuracy: 0.7434 - loss: 0.9314\nEpoch 48/300\n\u001b[1m4367/4367\u001b[0m \u001b[32m━━━━━━━━━━━━━━━━━━━━\u001b[0m\u001b[37m\u001b[0m \u001b[1m91s\u001b[0m 21ms/step - accuracy: 0.7370 - loss: 0.9388\nEpoch 49/300\n\u001b[1m4367/4367\u001b[0m \u001b[32m━━━━━━━━━━━━━━━━━━━━\u001b[0m\u001b[37m\u001b[0m \u001b[1m91s\u001b[0m 21ms/step - accuracy: 0.7448 - loss: 0.9161\nEpoch 50/300\n\u001b[1m4367/4367\u001b[0m \u001b[32m━━━━━━━━━━━━━━━━━━━━\u001b[0m\u001b[37m\u001b[0m \u001b[1m91s\u001b[0m 21ms/step - accuracy: 0.7394 - loss: 0.9384\nEpoch 51/300\n\u001b[1m4367/4367\u001b[0m \u001b[32m━━━━━━━━━━━━━━━━━━━━\u001b[0m\u001b[37m\u001b[0m \u001b[1m91s\u001b[0m 21ms/step - accuracy: 0.7414 - loss: 0.9275\nEpoch 52/300\n\u001b[1m4367/4367\u001b[0m \u001b[32m━━━━━━━━━━━━━━━━━━━━\u001b[0m\u001b[37m\u001b[0m \u001b[1m91s\u001b[0m 21ms/step - accuracy: 0.7502 - loss: 0.8970\nEpoch 53/300\n\u001b[1m4367/4367\u001b[0m \u001b[32m━━━━━━━━━━━━━━━━━━━━\u001b[0m\u001b[37m\u001b[0m \u001b[1m91s\u001b[0m 21ms/step - accuracy: 0.7530 - loss: 0.8828\nEpoch 54/300\n\u001b[1m4367/4367\u001b[0m \u001b[32m━━━━━━━━━━━━━━━━━━━━\u001b[0m\u001b[37m\u001b[0m \u001b[1m91s\u001b[0m 21ms/step - accuracy: 0.7594 - loss: 0.8588\nEpoch 55/300\n\u001b[1m4367/4367\u001b[0m \u001b[32m━━━━━━━━━━━━━━━━━━━━\u001b[0m\u001b[37m\u001b[0m \u001b[1m91s\u001b[0m 21ms/step - accuracy: 0.7588 - loss: 0.8578\nEpoch 56/300\n\u001b[1m4367/4367\u001b[0m \u001b[32m━━━━━━━━━━━━━━━━━━━━\u001b[0m\u001b[37m\u001b[0m \u001b[1m91s\u001b[0m 21ms/step - accuracy: 0.7651 - loss: 0.8332\nEpoch 57/300\n\u001b[1m4367/4367\u001b[0m \u001b[32m━━━━━━━━━━━━━━━━━━━━\u001b[0m\u001b[37m\u001b[0m \u001b[1m91s\u001b[0m 21ms/step - accuracy: 0.7654 - loss: 0.8251\nEpoch 58/300\n\u001b[1m4367/4367\u001b[0m \u001b[32m━━━━━━━━━━━━━━━━━━━━\u001b[0m\u001b[37m\u001b[0m \u001b[1m91s\u001b[0m 21ms/step - accuracy: 0.7692 - loss: 0.8092\nEpoch 59/300\n\u001b[1m4367/4367\u001b[0m \u001b[32m━━━━━━━━━━━━━━━━━━━━\u001b[0m\u001b[37m\u001b[0m \u001b[1m91s\u001b[0m 21ms/step - accuracy: 0.7713 - loss: 0.8080\nEpoch 60/300\n\u001b[1m4367/4367\u001b[0m \u001b[32m━━━━━━━━━━━━━━━━━━━━\u001b[0m\u001b[37m\u001b[0m \u001b[1m91s\u001b[0m 21ms/step - accuracy: 0.7697 - loss: 0.8130\nEpoch 61/300\n\u001b[1m4367/4367\u001b[0m \u001b[32m━━━━━━━━━━━━━━━━━━━━\u001b[0m\u001b[37m\u001b[0m \u001b[1m91s\u001b[0m 21ms/step - accuracy: 0.7758 - loss: 0.7870\nEpoch 64/300\n\u001b[1m4367/4367\u001b[0m \u001b[32m━━━━━━━━━━━━━━━━━━━━\u001b[0m\u001b[37m\u001b[0m \u001b[1m91s\u001b[0m 21ms/step - accuracy: 0.7802 - loss: 0.7610\nEpoch 67/300\n\u001b[1m1286/4367\u001b[0m \u001b[32m━━━━━\u001b[0m\u001b[37m━━━━━━━━━━━━━━━\u001b[0m \u001b[1m1:03\u001b[0m 21ms/step - accuracy: 0.7885 - loss: 0.7460",
          "output_type": "stream"
        }
      ],
      "execution_count": null
    },
    {
      "cell_type": "code",
      "source": [
        "# Plot loss curves\n",
        "fig = plt.figure()\n",
        "plt.plot(model.history.history['loss'])\n",
        "plt.title('model loss')\n",
        "plt.ylabel('loss')\n",
        "plt.xlabel('epoch')\n",
        "plt.tight_layout()"
      ],
      "metadata": {
        "colab": {
          "base_uri": "https://localhost:8080/",
          "height": 487
        },
        "id": "__8CsMnAPMci",
        "outputId": "ad9c5660-e48a-4d44-b024-caca3fdb477d"
      },
      "outputs": [
        {
          "output_type": "display_data",
          "data": {
            "text/plain": [
              "<Figure size 640x480 with 1 Axes>"
            ],
            "image/png": "[encoded data removed]"
          },
          "metadata": {}
        }
      ],
      "execution_count": null
    },
    {
      "cell_type": "markdown",
      "source": [
        "# Sauvegarde"
      ],
      "metadata": {
        "id": "ehJfl7-9rfU3"
      }
    },
    {
      "cell_type": "code",
      "source": [
        "from pickle import dump\n",
        "dump(tokenizer, open('tokenizer.pkl', 'wb'))"
      ],
      "metadata": {
        "id": "tP3hHrogrjMq"
      },
      "outputs": [],
      "execution_count": null
    },
    {
      "cell_type": "code",
      "source": [
        "# enregistrer les séquences dans un fichier\n",
        "data = '\\n'.join(sequences_words)\n",
        "with open(\"sequences_words.txt\", 'w') as file:\n",
        "  file.write(data)"
      ],
      "metadata": {
        "id": "wqI19xXkMAAu"
      },
      "outputs": [],
      "execution_count": null
    },
    {
      "cell_type": "code",
      "source": [
        "# enregistrer le modèle\n",
        "model.save('model.h5')"
      ],
      "metadata": {
        "colab": {
          "base_uri": "https://localhost:8080/"
        },
        "id": "TbRpu-AKOuYC",
        "outputId": "2569f752-e01a-48ef-d9f6-9e89ec378b56"
      },
      "outputs": [
        {
          "output_type": "stream",
          "name": "stderr",
          "text": [
            "WARNING:absl:You are saving your model as an HDF5 file via `model.save()` or `keras.saving.save_model(model)`. This file format is considered legacy. We recommend using instead the native Keras format, e.g. `model.save('my_model.keras')` or `keras.saving.save_model(model, 'my_model.keras')`. \n"
          ]
        }
      ],
      "execution_count": null
    }
  ]
}